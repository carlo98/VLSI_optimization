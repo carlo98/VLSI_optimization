{
 "cells": [
  {
   "cell_type": "markdown",
   "id": "19870b26",
   "metadata": {},
   "source": [
    "# SMT Solver for VLSI"
   ]
  },
  {
   "cell_type": "code",
   "execution_count": 1,
   "id": "de772736",
   "metadata": {
    "pycharm": {
     "name": "#%%\n"
    }
   },
   "outputs": [],
   "source": [
    "from itertools import combinations\n",
    "from z3 import *\n",
    "import matplotlib.pyplot as plt\n",
    "import random\n",
    "import matplotlib.patches as patches\n",
    "import time"
   ]
  },
  {
   "cell_type": "code",
   "execution_count": 2,
   "id": "57a07be3",
   "metadata": {},
   "outputs": [],
   "source": [
    "def plot_result(dims, w, ys, xs):\n",
    "    lims = (0, max(w, max([ys[i]+dims[i][1] for i in range(len(ys))])))\n",
    "\n",
    "    fig1 = plt.figure(figsize=(10, 10))\n",
    "    ax1 = fig1.add_subplot(111, aspect='equal')\n",
    "    for i in range(len(xs)):\n",
    "        ax1.add_patch(patches.Rectangle((xs[i], ys[i]), dims[i][0], dims[i][1], edgecolor='black', facecolor=random.choice(['r', 'g', 'y'])))\n",
    "\n",
    "    plt.xticks(range(w+1))\n",
    "    plt.yticks(range(max([ys[i]+dims[i][1] for i in range(len(ys))])+1))\n",
    "    #plt.grid(b=True, which='major', color='#666666', linestyle='-')\n",
    "    plt.show()"
   ]
  },
  {
   "cell_type": "code",
   "execution_count": 3,
   "id": "e736e3f7",
   "metadata": {},
   "outputs": [],
   "source": [
    "def max_z3(vars):\n",
    "    max = vars[0]\n",
    "    for v in vars[1:]:\n",
    "        max = If(v > max, v, max)\n",
    "    return max"
   ]
  },
  {
   "cell_type": "code",
   "execution_count": 4,
   "id": "c8fca11a",
   "metadata": {},
   "outputs": [],
   "source": [
    "def read_instance(instance_id):\n",
    "    filepath = \"../instances/ins-\" + str(instance_id) + \".txt\"\n",
    "    with open(filepath, \"r\") as f_in:\n",
    "        f = f_in.readlines()\n",
    "        for i in range(len(f)):\n",
    "            if not f[i][-1].isnumeric():\n",
    "                f[i] = f[i][:-1]\n",
    "                \n",
    "        W = int(f[0])\n",
    "        n = int(f[1])\n",
    "        dims_line = f[2].split(\" \")    \n",
    "        dims = [[int(dims_line[0]), int(dims_line[1])]]\n",
    "        for i in range(1, int(f[1])-1):\n",
    "            dims_line = f[2 + i].split(\" \")\n",
    "            dims.append([int(dims_line[0]), int(dims_line[1])])\n",
    "        dims_line = f[-1].split(\" \")\n",
    "        dims.append([int(dims_line[0]), int(dims_line[1])])\n",
    "        \n",
    "        dims = sorted(dims, key=lambda l:l[0]*l[1], reverse=True)\n",
    "        \n",
    "    return dims, W, n"
   ]
  },
  {
   "cell_type": "code",
   "execution_count": 5,
   "id": "6615e7e8",
   "metadata": {},
   "outputs": [],
   "source": [
    "def alphaMEncoding(opt, A, B):\n",
    "    n = len(A)\n",
    "    print(A)\n",
    "    print(B)\n",
    "    alphas = [Bool(\"a_%s\" % (i)) for i in range(n+1)]\n",
    "    opt.add(alphas[0] == True)\n",
    "    T1 = [Bool(\"t1_%s\" % (i)) for i in range(n)]\n",
    "    T2 = [Bool(\"t2_%s\" % (i)) for i in range(n)]\n",
    "    T3 = [Bool(\"t3_%s\" % (i)) for i in range(n)]\n",
    "    for i in range(n):\n",
    "        opt.add(Implies(T1[i], A[i] <= B[i]))\n",
    "        opt.add(Implies(A[i] <= B[i], T1[i]))\n",
    "        opt.add(Implies(T2[i], A[i] < B[i]))\n",
    "        opt.add(Implies(A[i] < B[i], T2[i]))\n",
    "        opt.add(Implies(T3[i], Or(T2[i], alphas[i+1])))\n",
    "        opt.add(Implies(Or(T2[i], alphas[i+1]), T3[i]))\n",
    "        opt.add(Implies(alphas[i], And(T3[i], T1[i])))\n",
    "        opt.add(Implies(And(T3[i], T1[i]), alphas[i]))\n",
    "    return opt"
   ]
  },
  {
   "cell_type": "code",
   "execution_count": 6,
   "id": "ed4c3055",
   "metadata": {},
   "outputs": [
    {
     "ename": "FileNotFoundError",
     "evalue": "[Errno 2] No such file or directory: '../instances/ins-16.txt'",
     "output_type": "error",
     "traceback": [
      "\u001b[0;31m---------------------------------------------------------------------------\u001b[0m",
      "\u001b[0;31mFileNotFoundError\u001b[0m                         Traceback (most recent call last)",
      "\u001b[0;32m<ipython-input-6-4d10902f581f>\u001b[0m in \u001b[0;36m<module>\u001b[0;34m\u001b[0m\n\u001b[0;32m----> 1\u001b[0;31m \u001b[0mdims\u001b[0m\u001b[0;34m,\u001b[0m \u001b[0mW\u001b[0m\u001b[0;34m,\u001b[0m \u001b[0mn\u001b[0m \u001b[0;34m=\u001b[0m \u001b[0mread_instance\u001b[0m\u001b[0;34m(\u001b[0m\u001b[0;36m16\u001b[0m\u001b[0;34m)\u001b[0m\u001b[0;34m\u001b[0m\u001b[0;34m\u001b[0m\u001b[0m\n\u001b[0m\u001b[1;32m      2\u001b[0m \u001b[0;31m# Solver\u001b[0m\u001b[0;34m\u001b[0m\u001b[0;34m\u001b[0m\u001b[0;34m\u001b[0m\u001b[0m\n\u001b[1;32m      3\u001b[0m \u001b[0mopt\u001b[0m \u001b[0;34m=\u001b[0m \u001b[0mOptimize\u001b[0m\u001b[0;34m(\u001b[0m\u001b[0;34m)\u001b[0m\u001b[0;34m\u001b[0m\u001b[0;34m\u001b[0m\u001b[0m\n\u001b[1;32m      4\u001b[0m \u001b[0;34m\u001b[0m\u001b[0m\n\u001b[1;32m      5\u001b[0m \u001b[0msol\u001b[0m \u001b[0;34m=\u001b[0m \u001b[0;34m[\u001b[0m\u001b[0;34m[\u001b[0m\u001b[0mInt\u001b[0m\u001b[0;34m(\u001b[0m\u001b[0;34m\"x_%s\"\u001b[0m \u001b[0;34m%\u001b[0m \u001b[0;34m(\u001b[0m\u001b[0mi\u001b[0m\u001b[0;34m)\u001b[0m\u001b[0;34m)\u001b[0m\u001b[0;34m,\u001b[0m \u001b[0mInt\u001b[0m\u001b[0;34m(\u001b[0m\u001b[0;34m\"y_%s\"\u001b[0m \u001b[0;34m%\u001b[0m \u001b[0;34m(\u001b[0m\u001b[0mi\u001b[0m\u001b[0;34m)\u001b[0m\u001b[0;34m)\u001b[0m\u001b[0;34m]\u001b[0m \u001b[0;32mfor\u001b[0m \u001b[0mi\u001b[0m \u001b[0;32min\u001b[0m \u001b[0mrange\u001b[0m\u001b[0;34m(\u001b[0m\u001b[0mn\u001b[0m\u001b[0;34m)\u001b[0m\u001b[0;34m]\u001b[0m\u001b[0;34m\u001b[0m\u001b[0;34m\u001b[0m\u001b[0m\n",
      "\u001b[0;32m<ipython-input-4-fb9f656e29d0>\u001b[0m in \u001b[0;36mread_instance\u001b[0;34m(instance_id)\u001b[0m\n\u001b[1;32m      1\u001b[0m \u001b[0;32mdef\u001b[0m \u001b[0mread_instance\u001b[0m\u001b[0;34m(\u001b[0m\u001b[0minstance_id\u001b[0m\u001b[0;34m)\u001b[0m\u001b[0;34m:\u001b[0m\u001b[0;34m\u001b[0m\u001b[0;34m\u001b[0m\u001b[0m\n\u001b[1;32m      2\u001b[0m     \u001b[0mfilepath\u001b[0m \u001b[0;34m=\u001b[0m \u001b[0;34m\"../instances/ins-\"\u001b[0m \u001b[0;34m+\u001b[0m \u001b[0mstr\u001b[0m\u001b[0;34m(\u001b[0m\u001b[0minstance_id\u001b[0m\u001b[0;34m)\u001b[0m \u001b[0;34m+\u001b[0m \u001b[0;34m\".txt\"\u001b[0m\u001b[0;34m\u001b[0m\u001b[0;34m\u001b[0m\u001b[0m\n\u001b[0;32m----> 3\u001b[0;31m     \u001b[0;32mwith\u001b[0m \u001b[0mopen\u001b[0m\u001b[0;34m(\u001b[0m\u001b[0mfilepath\u001b[0m\u001b[0;34m,\u001b[0m \u001b[0;34m\"r\"\u001b[0m\u001b[0;34m)\u001b[0m \u001b[0;32mas\u001b[0m \u001b[0mf_in\u001b[0m\u001b[0;34m:\u001b[0m\u001b[0;34m\u001b[0m\u001b[0;34m\u001b[0m\u001b[0m\n\u001b[0m\u001b[1;32m      4\u001b[0m         \u001b[0mf\u001b[0m \u001b[0;34m=\u001b[0m \u001b[0mf_in\u001b[0m\u001b[0;34m.\u001b[0m\u001b[0mreadlines\u001b[0m\u001b[0;34m(\u001b[0m\u001b[0;34m)\u001b[0m\u001b[0;34m\u001b[0m\u001b[0;34m\u001b[0m\u001b[0m\n\u001b[1;32m      5\u001b[0m         \u001b[0;32mfor\u001b[0m \u001b[0mi\u001b[0m \u001b[0;32min\u001b[0m \u001b[0mrange\u001b[0m\u001b[0;34m(\u001b[0m\u001b[0mlen\u001b[0m\u001b[0;34m(\u001b[0m\u001b[0mf\u001b[0m\u001b[0;34m)\u001b[0m\u001b[0;34m)\u001b[0m\u001b[0;34m:\u001b[0m\u001b[0;34m\u001b[0m\u001b[0;34m\u001b[0m\u001b[0m\n",
      "\u001b[0;31mFileNotFoundError\u001b[0m: [Errno 2] No such file or directory: '../instances/ins-16.txt'"
     ]
    }
   ],
   "source": [
    "dims, W, n = read_instance(16)\n",
    "# Solver\n",
    "opt = Optimize()\n",
    "\n",
    "sol = [[Int(\"x_%s\" % (i)), Int(\"y_%s\" % (i))] for i in range(n)]\n",
    "\n",
    "# overlapping\n",
    "for i in range(n):\n",
    "    for j in range(n):\n",
    "        if i != j:\n",
    "            opt.add(Or(sol[i][0] + dims[i][0] <= sol[j][0],\n",
    "                       sol[j][0] + dims[j][0] <= sol[i][0],\n",
    "                       sol[i][1] + dims[i][1] <= sol[j][1],\n",
    "                       sol[j][1] + dims[j][1] <= sol[i][1]))\n",
    "\n",
    "# width\n",
    "for i in range(n):\n",
    "    opt.add(sol[i][0] + dims[i][0] <= W)\n",
    "    opt.add(sol[i][0] >= 0) # min\n",
    "    opt.add(sol[i][0] <= W - min([dims[i][0] for i in range(n)])) # max\n",
    "    \n",
    "# height min\n",
    "for i in range(n):\n",
    "    opt.add(sol[i][1] >= 0)\n",
    "\n",
    "# Symmetry breaking\n",
    "flags = [False for i in range(n)]\n",
    "for i in range(n):\n",
    "    equal_hor = []\n",
    "    equal_ver = []\n",
    "    for j in range(n):\n",
    "        if i<=j and dims[i][0] == dims[j][0] and dims[i][1] == dims[j][1] and not flags[j]:\n",
    "            equal_hor.append(sol[j][0])\n",
    "            flags[j] = True\n",
    "            equal_ver.append(sol[j][1])\n",
    "            \n",
    "    if len(equal_hor) > 1:\n",
    "        opt = alphaMEncoding(opt, equal_hor, [equal_hor[len(equal_hor)-1-k] for k in range(len(equal_hor))])\n",
    "        opt = alphaMEncoding(opt, equal_ver, [equal_ver[len(equal_ver)-1-k] for k in range(len(equal_ver))])\n",
    "    \n",
    "for i in range(n):\n",
    "    for j in range(n):\n",
    "        if i<j and dims[i][0] == dims[j][0]:\n",
    "            opt.add(Implies(sol[i][0]==sol[j][0], sol[i][1]<=sol[j][1]))\n",
    "        if i<j and dims[i][1] == dims[j][1]:\n",
    "            opt.add(Implies(sol[i][1]==sol[j][1], sol[i][0]<=sol[j][0]))\n",
    "\n",
    "height_opt = Int('height_opt')\n",
    "\n",
    "# Biggest rectangle\n",
    "opt.add(And(sol[0][0] == 1 + (W-dims[0][0])/2, sol[0][1] == 1 + (height_opt-dims[0][1])/2))\n",
    "\n",
    "opt.add(height_opt <= sum([dims[i][1] for i in range(n)])) # upper bound\n",
    "opt.add(height_opt >= int(sum([dims[i][1]*dims[i][0] for i in range(n)])/W)) # lower bound\n",
    "objective = height_opt == max_z3([sol[i][1] + dims[i][1] for i in range(n)])\n",
    "opt.add(objective)\n",
    "opt.minimize(height_opt)\n",
    "\n",
    "start_time = time.time()\n",
    "opt.check()\n",
    "m = opt.model()\n",
    "print(\"Solving time (s): \", time.time()-start_time)\n",
    "\n",
    "ys = []\n",
    "xs = []\n",
    "for i in range(n):\n",
    "    xs.append(int(m.evaluate(sol[i][0]).as_string()))\n",
    "    ys.append(int(m.evaluate(sol[i][1]).as_string()))\n",
    "    \n",
    "plot_result(dims, W, ys, xs)"
   ]
  },
  {
   "cell_type": "code",
   "execution_count": null,
   "id": "4445fb57",
   "metadata": {},
   "outputs": [],
   "source": []
  }
 ],
 "metadata": {
  "kernelspec": {
   "display_name": "Python 3",
   "language": "python",
   "name": "python3"
  },
  "language_info": {
   "codemirror_mode": {
    "name": "ipython",
    "version": 3
   },
   "file_extension": ".py",
   "mimetype": "text/x-python",
   "name": "python",
   "nbconvert_exporter": "python",
   "pygments_lexer": "ipython3",
   "version": "3.8.3"
  }
 },
 "nbformat": 4,
 "nbformat_minor": 5
}
