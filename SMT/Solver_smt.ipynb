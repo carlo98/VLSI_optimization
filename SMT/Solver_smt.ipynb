{
 "cells": [
  {
   "cell_type": "markdown",
   "metadata": {},
   "source": [
    "# SMT Solver for VLSI"
   ]
  },
  {
   "cell_type": "code",
   "execution_count": 1,
   "metadata": {
    "pycharm": {
     "name": "#%%\n"
    }
   },
   "outputs": [],
   "source": [
    "from itertools import combinations\n",
    "from z3 import *\n",
    "import matplotlib.pyplot as plt\n",
    "import random\n",
    "import matplotlib.patches as patches\n",
    "import time"
   ]
  },
  {
   "cell_type": "code",
   "execution_count": 2,
   "metadata": {},
   "outputs": [],
   "source": [
    "def plot_result(dims, w, ys, xs):\n",
    "    lims = (0, max(w, max([ys[i]+dims[i][1] for i in range(len(ys))])))\n",
    "\n",
    "    fig1 = plt.figure(figsize=(10, 10))\n",
    "    ax1 = fig1.add_subplot(111, aspect='equal')\n",
    "    for i in range(len(xs)):\n",
    "        ax1.add_patch(patches.Rectangle((xs[i], ys[i]), dims[i][0], dims[i][1], edgecolor='black', facecolor=random.choice(['r', 'g', 'y'])))\n",
    "\n",
    "    plt.xticks(range(w+1))\n",
    "    plt.yticks(range(max([ys[i]+dims[i][1] for i in range(len(ys))])+1))\n",
    "    #plt.grid(b=True, which='major', color='#666666', linestyle='-')\n",
    "    plt.show()"
   ]
  },
  {
   "cell_type": "code",
   "execution_count": 3,
   "metadata": {},
   "outputs": [],
   "source": [
    "def max_z3(vars):\n",
    "    max = vars[0]\n",
    "    for v in vars[1:]:\n",
    "        max = If(v > max, v, max)\n",
    "    return max"
   ]
  },
  {
   "cell_type": "code",
   "execution_count": 4,
   "metadata": {},
   "outputs": [],
   "source": [
    "def read_instance(instance_id):\n",
    "    filepath = \"../instances/ins-\" + str(instance_id) + \".txt\"\n",
    "    with open(filepath, \"r\") as f_in:\n",
    "        f = f_in.readlines()\n",
    "        for i in range(len(f)):\n",
    "            if not f[i][-1].isnumeric():\n",
    "                f[i] = f[i][:-1]\n",
    "                \n",
    "        W = int(f[0])\n",
    "        n = int(f[1])\n",
    "        dims_line = f[2].split(\" \")    \n",
    "        dims = [[int(dims_line[0]), int(dims_line[1])]]\n",
    "        for i in range(1, int(f[1])-1):\n",
    "            dims_line = f[2 + i].split(\" \")\n",
    "            dims.append([int(dims_line[0]), int(dims_line[1])])\n",
    "        dims_line = f[-1].split(\" \")\n",
    "        dims.append([int(dims_line[0]), int(dims_line[1])])\n",
    "        \n",
    "        dims = sorted(dims, key=lambda l:l[0]*l[1], reverse=True)\n",
    "        \n",
    "    return dims, W, n"
   ]
  },
  {
   "cell_type": "code",
   "execution_count": 32,
   "metadata": {},
   "outputs": [],
   "source": [
    "def alphaMEncoding(opt, A, B):\n",
    "    n = len(A)\n",
    "    print(A)\n",
    "    print(B)\n",
    "    alphas = [Bool(\"a_%s\" % (i)) for i in range(n+1)]\n",
    "    opt.add(alphas[0] == True)\n",
    "    T1 = [Bool(\"t1_%s\" % (i)) for i in range(n)]\n",
    "    T2 = [Bool(\"t2_%s\" % (i)) for i in range(n)]\n",
    "    T3 = [Bool(\"t3_%s\" % (i)) for i in range(n)]\n",
    "    for i in range(n):\n",
    "        opt.add(Implies(T1[i], A[i] <= B[i]))\n",
    "        opt.add(Implies(A[i] <= B[i], T1[i]))\n",
    "        opt.add(Implies(T2[i], A[i] < B[i]))\n",
    "        opt.add(Implies(A[i] < B[i], T2[i]))\n",
    "        opt.add(Implies(T3[i], Or(T2[i], alphas[i+1])))\n",
    "        opt.add(Implies(Or(T2[i], alphas[i+1]), T3[i]))\n",
    "        opt.add(Implies(alphas[i], And(T3[i], T1[i])))\n",
    "        opt.add(Implies(And(T3[i], T1[i]), alphas[i]))\n",
    "    return opt"
   ]
  },
  {
   "cell_type": "code",
   "execution_count": 90,
   "metadata": {},
   "outputs": [
    {
     "name": "stdout",
     "output_type": "stream",
     "text": [
      "Solving time (s):  0.00654911994934082\n"
     ]
    },
    {
     "data": {
      "image/png": "[encoded data removed]",
      "text/plain": [
       "<Figure size 720x720 with 1 Axes>"
      ]
     },
     "metadata": {},
     "output_type": "display_data"
    }
   ],
   "source": [
    "dims, W, n = read_instance(1)\n",
    "# Solver\n",
    "opt = Optimize()\n",
    "\n",
    "sol = [[Int(\"x_%s\" % (i)), Int(\"y_%s\" % (i))] for i in range(n)]\n",
    "\n",
    "# overlapping\n",
    "for i in range(n):\n",
    "    for j in range(n):\n",
    "        if i != j:\n",
    "            opt.add(Or(sol[i][0] + dims[i][0] <= sol[j][0],\n",
    "                       sol[j][0] + dims[j][0] <= sol[i][0],\n",
    "                       sol[i][1] + dims[i][1] <= sol[j][1],\n",
    "                       sol[j][1] + dims[j][1] <= sol[i][1]))\n",
    "\n",
    "# width\n",
    "for i in range(n):\n",
    "    opt.add(sol[i][0] + dims[i][0] <= W)\n",
    "    opt.add(sol[i][0] >= 0) # min\n",
    "    opt.add(sol[i][0] <= W - min([dims[i][0] for i in range(n)])) # max\n",
    "    \n",
    "# height min\n",
    "for i in range(n):\n",
    "    opt.add(sol[i][1] >= 0)\n",
    "    \n",
    "# Biggest rectangle in (0, 0)\n",
    "opt.add(And(sol[0][0] ==0, sol[0][1] ==0))\n",
    "\n",
    "# Symmetry breaking\n",
    "flags = [False for i in range(n)]\n",
    "for i in range(n):\n",
    "    equal_hor = []\n",
    "    equal_ver = []\n",
    "    for j in range(n):\n",
    "        if i<=j and dims[i][0] == dims[j][0] and dims[i][1] == dims[j][1] and not flags[j]:\n",
    "            equal_hor.append(sol[j][0])\n",
    "            flags[j] = True\n",
    "            equal_ver.append(sol[j][1])\n",
    "            \n",
    "    if len(equal_hor) > 1:\n",
    "        opt = alphaMEncoding(opt, equal_hor, [equal_hor[len(equal_hor)-1-k] for k in range(len(equal_hor))])\n",
    "        opt = alphaMEncoding(opt, equal_ver, [equal_ver[len(equal_ver)-1-k] for k in range(len(equal_ver))])\n",
    "    \n",
    "for i in range(n):\n",
    "    for j in range(n):\n",
    "        if i<j and dims[i][0] == dims[j][0]:\n",
    "            opt.add(Implies(sol[i][0]==sol[j][0], sol[i][1]<=sol[j][1]))\n",
    "        if i<j and dims[i][1] == dims[j][1]:\n",
    "            opt.add(Implies(sol[i][1]==sol[j][1], sol[i][0]<=sol[j][0]))\n",
    "\n",
    "height_opt = Int('height_opt')\n",
    "opt.add(height_opt <= sum([dims[i][1] for i in range(n)])) # upper bound\n",
    "opt.add(height_opt >= int(sum([dims[i][1]*dims[i][0] for i in range(n)])/W)) # lower bound\n",
    "objective = height_opt == max_z3([sol[i][1] + dims[i][1] for i in range(n)])\n",
    "opt.add(objective)\n",
    "opt.minimize(height_opt)\n",
    "\n",
    "start_time = time.time()\n",
    "opt.check()\n",
    "m = opt.model()\n",
    "print(\"Solving time (s): \", time.time()-start_time)\n",
    "\n",
    "ys = []\n",
    "xs = []\n",
    "for i in range(n):\n",
    "    xs.append(int(m.evaluate(sol[i][0]).as_string()))\n",
    "    ys.append(int(m.evaluate(sol[i][1]).as_string()))\n",
    "    \n",
    "plot_result(dims, W, ys, xs)"
   ]
  },
  {
   "cell_type": "code",
   "execution_count": 29,
   "metadata": {
    "pycharm": {
     "name": "#%%\n"
    }
   },
   "outputs": [
    {
     "data": {
      "text/html": [
       "[&exist;x : killed(x, Agatha),\n",
       " &forall;x, y : killed(x, y) &rArr; hates(x, y) &and; &not;richer(x, y),\n",
       " &forall;x : hates(Agatha, x) &rArr; &not;hates(Charles, x),\n",
       " hates(Agatha, Agatha),\n",
       " hates(Agatha, Charles),\n",
       " &forall;x : &not;richer(x, Agatha) &rArr; hates(Butler, x),\n",
       " &forall;x : hates(Agatha, x) &rArr; hates(Butler, x),\n",
       " &forall;x : &exist;y : &not;hates(x, y)]"
      ],
      "text/plain": [
       "[Exists(x, killed(x, Agatha)),\n",
       " ForAll([x, y],\n",
       "        Implies(killed(x, y),\n",
       "                And(hates(x, y), Not(richer(x, y))))),\n",
       " ForAll(x,\n",
       "        Implies(hates(Agatha, x), Not(hates(Charles, x)))),\n",
       " hates(Agatha, Agatha),\n",
       " hates(Agatha, Charles),\n",
       " ForAll(x,\n",
       "        Implies(Not(richer(x, Agatha)), hates(Butler, x))),\n",
       " ForAll(x, Implies(hates(Agatha, x), hates(Butler, x))),\n",
       " ForAll(x, Exists(y, Not(hates(x, y))))]"
      ]
     },
     "execution_count": 29,
     "metadata": {},
     "output_type": "execute_result"
    }
   ],
   "source": [
    "sol = Solver()\n",
    "\n",
    "# Variables\n",
    "\n",
    "# Agatha, the butler, and Charles live in Dreadsbury Mansion, and are the only ones to live there.\n",
    "Mansion, (agatha, butler, charles) = EnumSort(\"Mansion\", [\"Agatha\", \"Butler\", \"Charles\"])\n",
    "\n",
    "# Who hates whom?\n",
    "hates = Function(\"hates\", Mansion, Mansion, BoolSort())\n",
    "# Who is richer than whom?\n",
    "richer = Function(\"richer\", Mansion, Mansion, BoolSort())\n",
    "# Who killed agatha?\n",
    "killed = Function(\"killed\", Mansion, Mansion, BoolSort())\n",
    "\n",
    "# For the logics\n",
    "x = Const(\"x\", Mansion)\n",
    "y = Const(\"y\", Mansion)\n",
    "\n",
    "# constraints\n",
    "\n",
    "# Who killed Agatha?\n",
    "sol.add(Exists(x, killed(x, agatha)))\n",
    "\n",
    "# A killed always hates, and is no richer than his victim. \n",
    "sol.add(ForAll([x, y], Implies(killed(x, y), And(hates(x, y), Not(richer(x, y))))))\n",
    "\n",
    "# Charles hates none that Agatha hates. \n",
    "sol.add(ForAll(x, Implies(hates(agatha, x), Not(hates(charles, x)))))\n",
    "\n",
    "# Agatha hates everybody except the butler.        \n",
    "sol.add(hates(agatha, agatha), hates(agatha, charles))\n",
    "\n",
    "# The butler hates everyone not richer than Aunt Agatha. \n",
    "sol.add(ForAll(x, Implies(Not(richer(x, agatha)), hates(butler, x))))\n",
    "\n",
    "# The butler hates everyone whom Agatha hates. \n",
    "sol.add(ForAll(x, Implies(hates(agatha, x), hates(butler, x))))\n",
    "\n",
    "# None hates everyone. \n",
    "sol.add(ForAll(x, Exists([y], Not(hates(x, y)))))\n",
    "\n",
    "sol"
   ]
  },
  {
   "cell_type": "code",
   "execution_count": 7,
   "metadata": {
    "pycharm": {
     "name": "#%%\n"
    }
   },
   "outputs": [],
   "source": [
    "def rectanglePacking_smt(n, dims, w, h):\n",
    "    # \n",
    "    sol = [[Int(\"x_%s\" % (i)) for i in range(n)], # x\n",
    "           [Int(\"y_%s\" % (i)) for i in range(n)]] # y\n",
    "\n",
    "    # \n",
    "    diffn = [ForAll]\n",
    "\n",
    "    # each row contains a digit at most once\n",
    "    rows_c = [Distinct(v[i]) for i in range(9)]\n",
    "\n",
    "    # each column contains a digit at most once\n",
    "    cols_c = [Distinct([v[i][j] for i in range(9)]) for j in range(9)]\n",
    "\n",
    "    # each 3x3 square contains a digit at most once\n",
    "    sq_c = [Distinct([v[3 * a + i][3 * b + j] for i in range(3) for j in range(3)])\n",
    "            for a in range(3) for b in range(3)]\n",
    "\n",
    "    sudoku_c = cells_c + rows_c + cols_c + sq_c\n",
    "\n",
    "    instance_c = [If(instance[i][j] == 0, True, v[i][j] == instance[i][j])\n",
    "                  for i in range(9) for j in range(9)]\n",
    "\n",
    "    s = Solver()\n",
    "    s.add(sudoku_c + instance_c)\n",
    "    \n",
    "    if s.check() == sat:\n",
    "        m = s.model()\n",
    "        return [[int(m.evaluate(v[i][j]).as_string()) for j in range(9)] for i in range(9)]\n",
    "    else:\n",
    "        print(\"Failed to solve\")"
   ]
  },
  {
   "cell_type": "markdown",
   "metadata": {
    "pycharm": {
     "name": "#%% md\n"
    }
   },
   "source": [
    "## Scheduling"
   ]
  },
  {
   "cell_type": "code",
   "execution_count": 10,
   "metadata": {
    "pycharm": {
     "name": "#%%\n"
    }
   },
   "outputs": [],
   "source": [
    "def max_z3(vars):\n",
    "    max = vars[0]\n",
    "    for v in vars[1:]:\n",
    "        max = If(v > max, v, max)\n",
    "    return max\n",
    "\n",
    "def schedule(jobs):\n",
    "    # Variables\n",
    "    t = []\n",
    "    for i, job in enumerate(jobs):\n",
    "        t.append([])\n",
    "        for j, _ in enumerate(job):\n",
    "            t[i].append(Int(f\"t{i}_{j}\"))\n",
    "\n",
    "    # Solver\n",
    "    opt = Optimize()\n",
    "\n",
    "    # Starting time of the task >= 0\n",
    "    for job in t:\n",
    "        for start_time in job:\n",
    "            opt.add(start_time >= 0)\n",
    "\n",
    "    # Precedence among the successive tasks of each job\n",
    "    for i, job in enumerate(t):\n",
    "        for j, (prev, succ) in enumerate(zip(job[:-1], job[1:])):\n",
    "            opt.add(prev + jobs[i][j][1] <= succ)\n",
    "\n",
    "    # Machines can only execute one task at a time\n",
    "    machine_ctrs = {}\n",
    "    for job in jobs:\n",
    "        for task in job:\n",
    "            machine_ctrs[task[0]] = []\n",
    "\n",
    "    all_tasks = [task for i, job in enumerate(jobs) for task in zip(t[i], job)]\n",
    "    for (t1, task1), (t2, task2) in combinations(all_tasks, 2):\n",
    "        if task1[0] == task2[0]:\n",
    "            machine_ctrs[task1[0]].append(Or(t1 + task1[1] <= t2, t2 + task2[1] <= t1))\n",
    "\n",
    "    for ctrs_list in machine_ctrs.values():\n",
    "        opt.add(And(ctrs_list))\n",
    "\n",
    "    # Objective\n",
    "    last_tasks = [start_list[-1] + job[-1][1] for job, start_list in zip(jobs, t)]\n",
    "    makespan = Int('makespan')\n",
    "    opt.add(makespan <= sum([task[1] for job in jobs for task in job])) # upper bound\n",
    "    objective = makespan == max_z3(last_tasks)\n",
    "    opt.add(objective)\n",
    "    opt.minimize(makespan)\n",
    "\n",
    "    opt.check()\n",
    "    m = opt.model()\n",
    "    sol = []\n",
    "    for i, job in enumerate(jobs):\n",
    "        for j, task in enumerate(job):\n",
    "            start_time = int(m.evaluate(t[i][j]).as_string())\n",
    "            sol.append({\n",
    "                'job': i,\n",
    "                'machine': task[0],\n",
    "                'duration': task[1],\n",
    "                'start': start_time,\n",
    "                'finish': start_time + task[1]\n",
    "            })\n",
    "    return sol"
   ]
  }
 ],
 "metadata": {
  "kernelspec": {
   "display_name": "Python 3",
   "language": "python",
   "name": "python3"
  },
  "language_info": {
   "codemirror_mode": {
    "name": "ipython",
    "version": 3
   },
   "file_extension": ".py",
   "mimetype": "text/x-python",
   "name": "python",
   "nbconvert_exporter": "python",
   "pygments_lexer": "ipython3",
   "version": "3.6.9"
  }
 },
 "nbformat": 4,
 "nbformat_minor": 5
}
