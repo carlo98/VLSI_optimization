{
 "cells": [
  {
   "cell_type": "markdown",
   "id": "930868e1",
   "metadata": {},
   "source": [
    "# SMT Solver for VLSI"
   ]
  },
  {
   "cell_type": "code",
   "execution_count": null,
   "id": "3358736c",
   "metadata": {
    "pycharm": {
     "name": "#%%\n"
    }
   },
   "outputs": [],
   "source": [
    "from itertools import combinations\n",
    "from z3 import *\n",
    "import matplotlib.pyplot as plt\n",
    "import random\n",
    "import matplotlib.patches as patches\n",
    "import time"
   ]
  },
  {
   "cell_type": "code",
   "execution_count": null,
   "id": "b5d4f379",
   "metadata": {},
   "outputs": [],
   "source": [
    "def plot_result(dims, w, ys, xs):\n",
    "    lims = (0, max(w, max([ys[i]+dims[i][1] for i in range(len(ys))])))\n",
    "\n",
    "    fig1 = plt.figure(figsize=(10, 10))\n",
    "    ax1 = fig1.add_subplot(111, aspect='equal')\n",
    "    for i in range(len(xs)):\n",
    "        ax1.add_patch(patches.Rectangle((xs[i], ys[i]), dims[i][0], dims[i][1], edgecolor='black', facecolor=random.choice(['r', 'g', 'y'])))\n",
    "\n",
    "    plt.xticks(range(w+1))\n",
    "    plt.yticks(range(max([ys[i]+dims[i][1] for i in range(len(ys))])+1))\n",
    "    plt.show()"
   ]
  },
  {
   "cell_type": "code",
   "execution_count": null,
   "id": "544d09ac",
   "metadata": {},
   "outputs": [],
   "source": [
    "def max_z3(vars):\n",
    "    max = vars[0]\n",
    "    for v in vars[1:]:\n",
    "        max = If(v > max, v, max)\n",
    "    return max"
   ]
  },
  {
   "cell_type": "code",
   "execution_count": null,
   "id": "048e26a7",
   "metadata": {},
   "outputs": [],
   "source": [
    "def read_instance(instance_id):\n",
    "    filepath = \"instances/ins-\" + str(instance_id) + \".txt\"\n",
    "    with open(filepath, \"r\") as f_in:\n",
    "        f = f_in.readlines()\n",
    "        for i in range(len(f)):\n",
    "            if not f[i][-1].isnumeric():\n",
    "                f[i] = f[i][:-1]\n",
    "                \n",
    "        W = int(f[0])\n",
    "        n = int(f[1])\n",
    "        dims_line = f[2].split(\" \")    \n",
    "        dims = [[int(dims_line[0]), int(dims_line[1])]]\n",
    "        for i in range(1, int(f[1])-1):\n",
    "            dims_line = f[2 + i].split(\" \")\n",
    "            dims.append([int(dims_line[0]), int(dims_line[1])])\n",
    "        dims_line = f[-1].split(\" \")\n",
    "        dims.append([int(dims_line[0]), int(dims_line[1])])\n",
    "        \n",
    "        dims = sorted(dims, key=lambda l:l[0]*l[1], reverse=True)\n",
    "        \n",
    "    return dims, W, n"
   ]
  },
  {
   "cell_type": "code",
   "execution_count": null,
   "id": "871dc10e",
   "metadata": {},
   "outputs": [],
   "source": [
    "def cumulative(opt, s, d, r, c, time):\n",
    "    for t in range(time):\n",
    "        tmp_sum = 0\n",
    "        for i in range(len(s)):\n",
    "            tmp_sum += If(And(s[i] <= t, t < s[i] + d[i]), 1, 0) * r[i]\n",
    "        opt.add(c >= tmp_sum) \n",
    "    return opt"
   ]
  },
  {
   "cell_type": "code",
   "execution_count": null,
   "id": "dbda9241",
   "metadata": {},
   "outputs": [],
   "source": [
    "for instance_m in range(1, 20): \n",
    "    dims, W, n = read_instance(instance_m)\n",
    "    # Solver\n",
    "    opt = Optimize()\n",
    "\n",
    "    sol = [[Int(\"x_%s\" % (i)), Int(\"y_%s\" % (i))] for i in range(n)]\n",
    "\n",
    "    # overlapping\n",
    "    for i in range(n):\n",
    "        for j in range(n):\n",
    "            if i != j:\n",
    "                opt.add(Or(sol[i][0] + dims[i][0] <= sol[j][0],\n",
    "                           sol[j][0] + dims[j][0] <= sol[i][0],\n",
    "                           sol[i][1] + dims[i][1] <= sol[j][1],\n",
    "                           sol[j][1] + dims[j][1] <= sol[i][1]))\n",
    "\n",
    "    # width\n",
    "    for i in range(n):\n",
    "        opt.add(sol[i][0] + dims[i][0] <= W)\n",
    "        opt.add(sol[i][0] >= 0) # min\n",
    "        opt.add(sol[i][0] <= W - min([dims[i][0] for i in range(n)])) # max\n",
    "\n",
    "    # height min\n",
    "    for i in range(n):\n",
    "        opt.add(sol[i][1] >= 0)\n",
    "\n",
    "    # Symmetry breaking\n",
    "    for i in range(n):\n",
    "        for j in range(n):\n",
    "            if i<j and dims[i][0] == dims[j][0] and dims[i][1] == dims[j][1]:\n",
    "                opt.add(Or(sol[i][0]<=sol[j][0], sol[i][1]<=sol[j][1]))\n",
    "\n",
    "    for i in range(n):\n",
    "        for j in range(n):\n",
    "            if i<j and dims[i][0] == dims[j][0]:\n",
    "                opt.add(Implies(sol[i][0]==sol[j][0], sol[i][1]<=sol[j][1]))\n",
    "            if i<j and dims[i][1] == dims[j][1]:\n",
    "                opt.add(Implies(sol[i][1]==sol[j][1], sol[i][0]<=sol[j][0]))\n",
    "\n",
    "    height_opt = Int('height_opt')\n",
    "\n",
    "    # Biggest rectangle\n",
    "    opt.add(And(sol[0][0] <= 1+(W-dims[0][0])/2, sol[0][1] <= 1+(height_opt-dims[0][1])/2))\n",
    "\n",
    "    min_height = int(sum([dims[i][1]*dims[i][0] for i in range(n)])/W)\n",
    "    max_height = 2*max(max([dims[i][1] for i in range(n)]), min_height)\n",
    "    \n",
    "    # Cumulative on x\n",
    "    opt = cumulative(opt, [sol[i][0] for i in range(n)], [dims[i][0] for i in range(n)], \n",
    "                    [dims[i][1] for i in range(n)], height_opt, W)\n",
    "    \n",
    "    # Cumulative on y\n",
    "    opt = cumulative(opt, [sol[i][1] for i in range(n)], [dims[i][1] for i in range(n)], \n",
    "                    [dims[i][0] for i in range(n)], W, max_height)\n",
    "\n",
    "    opt.add(height_opt <= max_height) # upper bound\n",
    "    opt.add(height_opt >= min_height) # lower bound\n",
    "    objective = height_opt == max_z3([sol[i][1] + dims[i][1] for i in range(n)])\n",
    "    opt.add(objective)\n",
    "    \n",
    "    for i in range(n):\n",
    "        opt.add(sol[i][1] <= height_opt-dims[i][1])\n",
    "    opt.minimize(height_opt)\n",
    "    \n",
    "    opt.set(\"timeout\", 300*1000)  # 5 minutes timeout\n",
    "\n",
    "    start_time = time.time()\n",
    "    opt.check()\n",
    "    m = opt.model()\n",
    "    print(\"Solving time (s): \", time.time()-start_time)\n",
    "\n",
    "    ys = []\n",
    "    xs = []\n",
    "    for i in range(n):\n",
    "        xs.append(int(m.evaluate(sol[i][0]).as_string()))\n",
    "        ys.append(int(m.evaluate(sol[i][1]).as_string()))\n",
    "\n",
    "    f = open(\"out/out-\" + str(instance_m) + \".txt\", \"w\")\n",
    "    f.write(str(W) + \" \" + m.evaluate(height_opt).as_string() + \"\\n\")\n",
    "    f.write(str(n) + \"\\n\")\n",
    "    for i in range(n):\n",
    "        if i < n-1:\n",
    "            f.write(str(dims[i][0]) + \" \" + str(dims[i][1]) + \" \" + m.evaluate(sol[i][0]).as_string() + \" \" + m.evaluate(sol[i][1]).as_string() + \"\\n\")\n",
    "        else:\n",
    "            f.write(str(dims[i][0]) + \" \" + str(dims[i][1]) + \" \" + m.evaluate(sol[i][0]).as_string() + \" \" + m.evaluate(sol[i][1]).as_string())\n",
    "    f.close()\n",
    "    \n",
    "    #plot_result(dims, W, ys, xs)"
   ]
  },
  {
   "cell_type": "code",
   "execution_count": null,
   "id": "c4752f3e",
   "metadata": {},
   "outputs": [],
   "source": []
  }
 ],
 "metadata": {
  "kernelspec": {
   "display_name": "Python 3",
   "language": "python",
   "name": "python3"
  },
  "language_info": {
   "codemirror_mode": {
    "name": "ipython",
    "version": 3
   },
   "file_extension": ".py",
   "mimetype": "text/x-python",
   "name": "python",
   "nbconvert_exporter": "python",
   "pygments_lexer": "ipython3",
   "version": "3.8.3"
  }
 },
 "nbformat": 4,
 "nbformat_minor": 5
}
