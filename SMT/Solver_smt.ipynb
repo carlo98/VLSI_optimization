{
 "cells": [
  {
   "cell_type": "markdown",
   "metadata": {},
   "source": [
    "# SMT Solver for VLSI"
   ]
  },
  {
   "cell_type": "code",
   "execution_count": 1,
   "metadata": {
    "pycharm": {
     "name": "#%%\n"
    }
   },
   "outputs": [],
   "source": [
    "from itertools import combinations\n",
    "from z3 import *\n",
    "import matplotlib.pyplot as plt\n",
    "import random\n",
    "import matplotlib.patches as patches\n",
    "import time"
   ]
  },
  {
   "cell_type": "code",
   "execution_count": 2,
   "metadata": {},
   "outputs": [],
   "source": [
    "def plot_result(dims, w, ys, xs):\n",
    "    lims = (0, max(w, max([ys[i]+dims[i][1] for i in range(len(ys))])))\n",
    "\n",
    "    fig1 = plt.figure(figsize=(10, 10))\n",
    "    ax1 = fig1.add_subplot(111, aspect='equal')\n",
    "    for i in range(len(xs)):\n",
    "        ax1.add_patch(patches.Rectangle((xs[i], ys[i]), dims[i][0], dims[i][1], edgecolor='black', facecolor=random.choice(['r', 'g', 'y'])))\n",
    "\n",
    "    plt.xticks(range(w+1))\n",
    "    plt.yticks(range(max([ys[i]+dims[i][1] for i in range(len(ys))])+1))\n",
    "    #plt.grid(b=True, which='major', color='#666666', linestyle='-')\n",
    "    plt.show()"
   ]
  },
  {
   "cell_type": "code",
   "execution_count": 3,
   "metadata": {},
   "outputs": [],
   "source": [
    "def max_z3(vars):\n",
    "    max = vars[0]\n",
    "    for v in vars[1:]:\n",
    "        max = If(v > max, v, max)\n",
    "    return max"
   ]
  },
  {
   "cell_type": "code",
   "execution_count": 4,
   "metadata": {},
   "outputs": [],
   "source": [
    "def read_instance(instance_id):\n",
    "    filepath = \"../instances/ins-\" + str(instance_id) + \".txt\"\n",
    "    with open(filepath, \"r\") as f_in:\n",
    "        f = f_in.readlines()\n",
    "        for i in range(len(f)):\n",
    "            if not f[i][-1].isnumeric():\n",
    "                f[i] = f[i][:-1]\n",
    "                \n",
    "        W = int(f[0])\n",
    "        n = int(f[1])\n",
    "        dims_line = f[2].split(\" \")    \n",
    "        dims = [[int(dims_line[0]), int(dims_line[1])]]\n",
    "        for i in range(1, int(f[1])-1):\n",
    "            dims_line = f[2 + i].split(\" \")\n",
    "            dims.append([int(dims_line[0]), int(dims_line[1])])\n",
    "        dims_line = f[-1].split(\" \")\n",
    "        dims.append([int(dims_line[0]), int(dims_line[1])])\n",
    "        \n",
    "        dims = sorted(dims, key=lambda l:l[0]*l[1], reverse=True)\n",
    "        \n",
    "    return dims, W, n"
   ]
  },
  {
   "cell_type": "code",
   "execution_count": 5,
   "metadata": {},
   "outputs": [],
   "source": [
    "def alphaMEncoding(opt, A, B):\n",
    "    n = len(A)\n",
    "    print(A)\n",
    "    print(B)\n",
    "    alphas = [Bool(\"a_%s\" % (i)) for i in range(n+1)]\n",
    "    opt.add(alphas[0] == True)\n",
    "    T1 = [Bool(\"t1_%s\" % (i)) for i in range(n)]\n",
    "    T2 = [Bool(\"t2_%s\" % (i)) for i in range(n)]\n",
    "    T3 = [Bool(\"t3_%s\" % (i)) for i in range(n)]\n",
    "    for i in range(n):\n",
    "        opt.add(Implies(T1[i], A[i] <= B[i]))\n",
    "        opt.add(Implies(A[i] <= B[i], T1[i]))\n",
    "        opt.add(Implies(T2[i], A[i] < B[i]))\n",
    "        opt.add(Implies(A[i] < B[i], T2[i]))\n",
    "        opt.add(Implies(T3[i], Or(T2[i], alphas[i+1])))\n",
    "        opt.add(Implies(Or(T2[i], alphas[i+1]), T3[i]))\n",
    "        opt.add(Implies(alphas[i], And(T3[i], T1[i])))\n",
    "        opt.add(Implies(And(T3[i], T1[i]), alphas[i]))\n",
    "    return opt"
   ]
  },
  {
   "cell_type": "code",
   "execution_count": null,
   "metadata": {},
   "outputs": [],
   "source": [
    "dims, W, n = read_instance(11)\n",
    "# Solver\n",
    "opt = Optimize()\n",
    "\n",
    "sol = [[Int(\"x_%s\" % (i)), Int(\"y_%s\" % (i))] for i in range(n)]\n",
    "\n",
    "# overlapping\n",
    "for i in range(n):\n",
    "    for j in range(n):\n",
    "        if i != j:\n",
    "            opt.add(Or(sol[i][0] + dims[i][0] <= sol[j][0],\n",
    "                       sol[j][0] + dims[j][0] <= sol[i][0],\n",
    "                       sol[i][1] + dims[i][1] <= sol[j][1],\n",
    "                       sol[j][1] + dims[j][1] <= sol[i][1]))\n",
    "\n",
    "# width\n",
    "for i in range(n):\n",
    "    opt.add(sol[i][0] + dims[i][0] <= W)\n",
    "    opt.add(sol[i][0] >= 0) # min\n",
    "    opt.add(sol[i][0] <= W - min([dims[i][0] for i in range(n)])) # max\n",
    "    \n",
    "# height min\n",
    "for i in range(n):\n",
    "    opt.add(sol[i][1] >= 0)\n",
    "\n",
    "# Symmetry breaking\n",
    "flags = [False for i in range(n)]\n",
    "for i in range(n):\n",
    "    equal_hor = []\n",
    "    equal_ver = []\n",
    "    for j in range(n):\n",
    "        if i<=j and dims[i][0] == dims[j][0] and dims[i][1] == dims[j][1] and not flags[j]:\n",
    "            equal_hor.append(sol[j][0])\n",
    "            flags[j] = True\n",
    "            equal_ver.append(sol[j][1])\n",
    "            \n",
    "    if len(equal_hor) > 1:\n",
    "        opt = alphaMEncoding(opt, equal_hor, [equal_hor[len(equal_hor)-1-k] for k in range(len(equal_hor))])\n",
    "        opt = alphaMEncoding(opt, equal_ver, [equal_ver[len(equal_ver)-1-k] for k in range(len(equal_ver))])\n",
    "    \n",
    "for i in range(n):\n",
    "    for j in range(n):\n",
    "        if i<j and dims[i][0] == dims[j][0]:\n",
    "            opt.add(Implies(sol[i][0]==sol[j][0], sol[i][1]<=sol[j][1]))\n",
    "        if i<j and dims[i][1] == dims[j][1]:\n",
    "            opt.add(Implies(sol[i][1]==sol[j][1], sol[i][0]<=sol[j][0]))\n",
    "\n",
    "height_opt = Int('height_opt')\n",
    "\n",
    "# Biggest rectangle\n",
    "opt.add(And(sol[0][0] <= 1+(W-dims[0][0])/2, sol[0][1] <= 1+(height_opt-dims[0][1])/2))\n",
    "\n",
    "opt.add(height_opt <= 2*max(max([dims[i][1] for i in range(n)]), min_height)) # upper bound\n",
    "opt.add(height_opt >= int(sum([dims[i][1]*dims[i][0] for i in range(n)])/W)) # lower bound\n",
    "objective = height_opt == max_z3([sol[i][1] + dims[i][1] for i in range(n)])\n",
    "opt.add(objective)\n",
    "opt.minimize(height_opt)\n",
    "\n",
    "start_time = time.time()\n",
    "opt.check()\n",
    "m = opt.model()\n",
    "print(\"Solving time (s): \", time.time()-start_time)\n",
    "\n",
    "ys = []\n",
    "xs = []\n",
    "for i in range(n):\n",
    "    xs.append(int(m.evaluate(sol[i][0]).as_string()))\n",
    "    ys.append(int(m.evaluate(sol[i][1]).as_string()))\n",
    "    \n",
    "plot_result(dims, W, ys, xs)"
   ]
  },
  {
   "cell_type": "code",
   "execution_count": null,
   "metadata": {},
   "outputs": [],
   "source": []
  }
 ],
 "metadata": {
  "kernelspec": {
   "display_name": "Python 3",
   "language": "python",
   "name": "python3"
  },
  "language_info": {
   "codemirror_mode": {
    "name": "ipython",
    "version": 3
   },
   "file_extension": ".py",
   "mimetype": "text/x-python",
   "name": "python",
   "nbconvert_exporter": "python",
   "pygments_lexer": "ipython3",
   "version": "3.6.9"
  }
 },
 "nbformat": 4,
 "nbformat_minor": 5
}
