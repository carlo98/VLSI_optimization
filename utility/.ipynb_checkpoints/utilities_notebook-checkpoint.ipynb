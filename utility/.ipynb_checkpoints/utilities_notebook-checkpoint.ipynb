{
 "cells": [
  {
   "cell_type": "code",
   "execution_count": 1,
   "metadata": {
    "id": "AuP_cF9eMCOL"
   },
   "outputs": [],
   "source": [
    "import os\n",
    "import matplotlib.pyplot as plt\n",
    "import random\n",
    "import matplotlib.patches as patches\n",
    "%matplotlib inline"
   ]
  },
  {
   "cell_type": "code",
   "execution_count": 5,
   "metadata": {
    "id": "Km0bNGXNGyDl"
   },
   "outputs": [],
   "source": [
    "folder_in = \"/home/carlo/Desktop/Combinatorial_Decision_Making_and_Optimization/Module 1/Project/instances\"\n",
    "folder_out = \"/home/carlo/Desktop/Combinatorial_Decision_Making_and_Optimization/Module 1/Project/VLSI_optimization/Minizinc/instances\"\n",
    "\n",
    "for txt_instance in os.listdir(folder_in):\n",
    "    with open(os.path.join(folder_out, txt_instance[:-3])+\"dzn\", \"w\") as f_out:\n",
    "        f_in = open(os.path.join(folder_in, txt_instance), \"r\").readlines()\n",
    "        for i in range(len(f_in)):\n",
    "            if not f_in[i][-1].isnumeric():\n",
    "                f_in[i] = f_in[i][:-1]\n",
    "                \n",
    "        f_out.write(\"w = \" + f_in[0] + \";\\n\")\n",
    "        f_out.write(\"n = \" + f_in[1] + \";\\n\")\n",
    "        dims_line = f_in[2].split(\" \")\n",
    "        f_out.write(\"dims = [|\" + dims_line[0] + \", \" + dims_line[1] + \"\\n\")\n",
    "        for i in range(1, int(f_in[1])-1):\n",
    "            dims_line = f_in[2 + i].split(\" \")\n",
    "            f_out.write(\"        |\" + dims_line[0] + \", \" + dims_line[1] + \"\\n\")\n",
    "        dims_line = f_in[-1].split(\" \")\n",
    "        f_out.write(\"        |\" + dims_line[0] + \", \" + dims_line[1] + \"|];\\n\")"
   ]
  },
  {
   "cell_type": "code",
   "execution_count": 2,
   "metadata": {
    "colab": {
     "base_uri": "https://localhost:8080/",
     "height": 269
    },
    "id": "rYm9PtMsRMvI",
    "outputId": "0f3ef310-8909-4f23-93ab-cccf83c7fbd3"
   },
   "outputs": [
    {
     "data": {
      "image/png": "[encoded data removed]",
      "text/plain": [
       "<Figure size 720x720 with 1 Axes>"
      ]
     },
     "metadata": {
      "needs_background": "light"
     },
     "output_type": "display_data"
    }
   ],
   "source": [
    "w = 8\n",
    "xs = [0, 0, 3, 3]\n",
    "ys =[0, 3, 0, 3]\n",
    "dims = [[3, 3],\n",
    "        [3, 5],\n",
    "       [5, 3],\n",
    "       [5, 5]]\n",
    "lims = (0, max(w, max([ys[i]+dims[i][1] for i in range(len(ys))])))\n",
    "\n",
    "fig1 = plt.figure(figsize=(10, 10))\n",
    "ax1 = fig1.add_subplot(111, aspect='equal')\n",
    "for i in range(len(xs)):\n",
    "  ax1.add_patch(patches.Rectangle((xs[i], ys[i]), dims[i][0], dims[i][1], edgecolor='black', facecolor=random.choice(['r', 'g', 'y'])))\n",
    "\n",
    "plt.xticks(range(w+1))\n",
    "plt.yticks(range(max([ys[i]+dims[i][1] for i in range(len(ys))])+1))\n",
    "#plt.grid(b=True, which='major', color='#666666', linestyle='-')\n",
    "plt.show()"
   ]
  },
  {
   "cell_type": "code",
   "execution_count": 3,
   "metadata": {},
   "outputs": [
    {
     "data": {
      "image/png": "[encoded data removed]",
      "text/plain": [
       "<Figure size 720x720 with 1 Axes>"
      ]
     },
     "metadata": {
      "needs_background": "light"
     },
     "output_type": "display_data"
    }
   ],
   "source": [
    "w = 8\n",
    "xs = [0, 0, 3, 3]\n",
    "ys = [0, 3, 5, 0]\n",
    "dims = [[3, 3],\n",
    "        [3, 5],\n",
    "       [5, 3],\n",
    "       [5, 5]]\n",
    "lims = (0, max(w, max([ys[i]+dims[i][1] for i in range(len(ys))])))\n",
    "\n",
    "fig1 = plt.figure(figsize=(10, 10))\n",
    "ax1 = fig1.add_subplot(111, aspect='equal')\n",
    "for i in range(len(xs)):\n",
    "  ax1.add_patch(patches.Rectangle((xs[i], ys[i]), dims[i][0], dims[i][1], edgecolor='black', facecolor=random.choice(['r', 'g', 'y'])))\n",
    "\n",
    "plt.xticks(range(w+1))\n",
    "plt.yticks(range(max([ys[i]+dims[i][1] for i in range(len(ys))])+1))\n",
    "#plt.grid(b=True, which='major', color='#666666', linestyle='-')\n",
    "plt.show()"
   ]
  },
  {
   "cell_type": "code",
   "execution_count": null,
   "metadata": {},
   "outputs": [],
   "source": []
  }
 ],
 "metadata": {
  "colab": {
   "collapsed_sections": [],
   "name": "txt_to_dzn.ipynb",
   "provenance": []
  },
  "kernelspec": {
   "display_name": "Python 3",
   "language": "python",
   "name": "python3"
  },
  "language_info": {
   "codemirror_mode": {
    "name": "ipython",
    "version": 3
   },
   "file_extension": ".py",
   "mimetype": "text/x-python",
   "name": "python",
   "nbconvert_exporter": "python",
   "pygments_lexer": "ipython3",
   "version": "3.8.3"
  }
 },
 "nbformat": 4,
 "nbformat_minor": 1
}
