{
  "nbformat": 4,
  "nbformat_minor": 0,
  "metadata": {
    "colab": {
      "name": "txt_to_dzn.ipynb",
      "provenance": [],
      "collapsed_sections": []
    },
    "kernelspec": {
      "name": "python3",
      "display_name": "Python 3"
    },
    "language_info": {
      "name": "python"
    }
  },
  "cells": [
    {
      "cell_type": "code",
      "metadata": {
        "id": "AuP_cF9eMCOL"
      },
      "source": [
        "import os\n",
        "import matplotlib.pyplot as plt\n",
        "import random\n",
        "import matplotlib.patches as patches\n",
        "%matplotlib inline"
      ],
      "execution_count": 32,
      "outputs": []
    },
    {
      "cell_type": "code",
      "metadata": {
        "id": "Km0bNGXNGyDl"
      },
      "source": [
        "folder_in = \"txt\"\n",
        "folder_out = \"instances\"\n",
        "for txt_instance in os.listdir(folder_in):\n",
        "  with open(os.path.join(folder_out, txt_instance[:-3])+\"dzn\", \"w\") as f_out:\n",
        "    f_in = open(os.path.join(folder_in, txt_instance), \"r\").readlines()\n",
        "    for i in range(len(f_in)):\n",
        "      f_in[i] = f_in[i][:-1]\n",
        "    f_out.write(\"w = \" + f_in[0] + \";\\n\")\n",
        "    f_out.write(\"n = \" + f_in[1] + \";\\n\")\n",
        "    dims_line = f_in[2].split(\" \")\n",
        "    f_out.write(\"dims = [|\" + dims_line[0] + \", \" + dims_line[1] + \"\\n\")\n",
        "    for i in range(1, int(f_in[1])-1):\n",
        "      dims_line = f_in[1 + i].split(\" \")\n",
        "      f_out.write(\"        |\" + dims_line[0] + \", \" + dims_line[1] + \"\\n\")\n",
        "    dims_line = f_in[-1].split(\" \")\n",
        "    f_out.write(\"        |\" + dims_line[0] + \", \" + dims_line[1] + \"|];\\n\")"
      ],
      "execution_count": null,
      "outputs": []
    },
    {
      "cell_type": "code",
      "metadata": {
        "colab": {
          "base_uri": "https://localhost:8080/",
          "height": 269
        },
        "id": "rYm9PtMsRMvI",
        "outputId": "0f3ef310-8909-4f23-93ab-cccf83c7fbd3"
      },
      "source": [
        "w = 9\n",
        "xs = [5, 1, 0, 2, 5]\n",
        "ys = [9, 4, 0, 7, 0]\n",
        "dims = [[3, 3],\n",
        "        [3, 3],\n",
        "        [3, 4],\n",
        "        [3, 5],\n",
        "        [3, 9]]\n",
        "lims = (0, max(w, max([ys[i]+dims[i][1] for i in range(len(ys))])))\n",
        "\n",
        "fig1 = plt.figure()\n",
        "ax1 = fig1.add_subplot(111, aspect='equal')\n",
        "for i in range(len(xs)):\n",
        "  ax1.add_patch(patches.Rectangle((xs[i], ys[i]), dims[i][0], dims[i][1], edgecolor='b', facecolor=random.choice(['r', 'g', 'y'])))\n",
        "\n",
        "plt.xticks(range(w+1))\n",
        "plt.yticks(range(max([ys[i]+dims[i][1] for i in range(len(ys))])+1))\n",
        "plt.grid(b=True, which='major', color='#666666', linestyle='-')\n",
        "plt.show()"
      ],
      "execution_count": 61,
      "outputs": [
        {
          "output_type": "display_data",
          "data": {
            "image/png": "[encoded data removed]",
            "text/plain": [
              "<Figure size 432x288 with 1 Axes>"
            ]
          },
          "metadata": {
            "tags": [],
            "needs_background": "light"
          }
        }
      ]
    }
  ]
}