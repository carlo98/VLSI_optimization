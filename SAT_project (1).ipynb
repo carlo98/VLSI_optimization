{
  "nbformat": 4,
  "nbformat_minor": 0,
  "metadata": {
    "colab": {
      "name": "SAT_project.ipynb",
      "provenance": [],
      "collapsed_sections": []
    },
    "kernelspec": {
      "display_name": "Python 3",
      "name": "python3"
    },
    "language_info": {
      "name": "python"
    }
  },
  "cells": [
    {
      "cell_type": "code",
      "metadata": {
        "colab": {
          "base_uri": "https://localhost:8080/"
        },
        "id": "4wPXDsq_MKyv",
        "outputId": "0b89da3f-4368-4034-c376-3d7ea4a3ea4b"
      },
      "source": [
        "!pip install z3-solver"
      ],
      "execution_count": null,
      "outputs": [
        {
          "output_type": "stream",
          "text": [
            "Collecting z3-solver\n",
            "\u001b[?25l  Downloading https://files.pythonhosted.org/packages/fa/ef/d972d512ac4fb56d7fb4b93dfc4dc16450b68328e359b67edd70c77f8e9b/z3_solver-4.8.10.0-py2.py3-none-manylinux1_x86_64.whl (32.6MB)\n",
            "\u001b[K     |████████████████████████████████| 32.6MB 87kB/s \n",
            "\u001b[?25hInstalling collected packages: z3-solver\n",
            "Successfully installed z3-solver-4.8.10.0\n"
          ],
          "name": "stdout"
        }
      ]
    },
    {
      "cell_type": "code",
      "metadata": {
        "id": "Q0o1fgmfOStw"
      },
      "source": [
        "from z3 import *\n",
        "import itertools\n",
        "from google.colab import drive\n",
        "import time"
      ],
      "execution_count": null,
      "outputs": []
    },
    {
      "cell_type": "markdown",
      "metadata": {
        "id": "UeNgY6XWqYN_"
      },
      "source": [
        ""
      ]
    },
    {
      "cell_type": "code",
      "metadata": {
        "colab": {
          "base_uri": "https://localhost:8080/"
        },
        "id": "3ATUELT_1RSd",
        "outputId": "06935137-d8fe-4e2a-858d-78f62e0d464b"
      },
      "source": [
        "drive.mount('/gdrive', force_remount=True)\n",
        "%cd /gdrive/MyDrive/CDMO/instances/"
      ],
      "execution_count": null,
      "outputs": [
        {
          "output_type": "stream",
          "text": [
            "Mounted at /gdrive\n",
            "/gdrive/MyDrive/CDMO/instances\n"
          ],
          "name": "stdout"
        }
      ]
    },
    {
      "cell_type": "code",
      "metadata": {
        "id": "Vcx0lDix1_2w"
      },
      "source": [
        "filename = 'ins-32.txt'\n",
        "with open(filename, \"r\") as file1:\n",
        "    FileasList = file1.readlines()\n",
        "W=int(FileasList[0])\n",
        "N=int(FileasList[1])"
      ],
      "execution_count": null,
      "outputs": []
    },
    {
      "cell_type": "code",
      "metadata": {
        "id": "jqKx3CFA4HTX"
      },
      "source": [
        "rects=[]\n",
        "totarea=0\n",
        "for n in range(2,2+N):\n",
        "  values = [int(s) for s in FileasList[n].split() if s.isdigit()]\n",
        "  w =values[0]\n",
        "  h = values[1]\n",
        "  totarea += h*w\n",
        "  rects.append([w,h])"
      ],
      "execution_count": null,
      "outputs": []
    },
    {
      "cell_type": "code",
      "metadata": {
        "colab": {
          "base_uri": "https://localhost:8080/",
          "height": 471
        },
        "id": "pDDEipcUjVPj",
        "outputId": "17e41b08-e6a7-4d3a-9b8b-8ccbe45bf388"
      },
      "source": [
        "m,coords = solve(rects,W, opt=True)"
      ],
      "execution_count": null,
      "outputs": [
        {
          "output_type": "stream",
          "text": [
            "39\n",
            "40\n",
            "41\n"
          ],
          "name": "stdout"
        },
        {
          "output_type": "stream",
          "text": [
            "Exception ignored in: <function AstRef.__del__ at 0x7f74cdec24d0>\n",
            "Traceback (most recent call last):\n",
            "  File \"/usr/local/lib/python3.7/dist-packages/z3/z3.py\", line 313, in __del__\n",
            "    if self.ctx.ref() is not None and self.ast is not None:\n",
            "  File \"/usr/local/lib/python3.7/dist-packages/z3/z3.py\", line 198, in ref\n",
            "    return self.ctx\n",
            "KeyboardInterrupt\n"
          ],
          "name": "stderr"
        },
        {
          "output_type": "error",
          "ename": "KeyboardInterrupt",
          "evalue": "ignored",
          "traceback": [
            "\u001b[0;31m---------------------------------------------------------------------------\u001b[0m",
            "\u001b[0;31mKeyboardInterrupt\u001b[0m                         Traceback (most recent call last)",
            "\u001b[0;32m<ipython-input-20-1126c3546f83>\u001b[0m in \u001b[0;36m<module>\u001b[0;34m()\u001b[0m\n\u001b[0;32m----> 1\u001b[0;31m \u001b[0mm\u001b[0m\u001b[0;34m,\u001b[0m\u001b[0mcoords\u001b[0m \u001b[0;34m=\u001b[0m \u001b[0msolve\u001b[0m\u001b[0;34m(\u001b[0m\u001b[0mrects\u001b[0m\u001b[0;34m,\u001b[0m\u001b[0mW\u001b[0m\u001b[0;34m,\u001b[0m \u001b[0mopt\u001b[0m\u001b[0;34m=\u001b[0m\u001b[0;32mTrue\u001b[0m\u001b[0;34m)\u001b[0m\u001b[0;34m\u001b[0m\u001b[0;34m\u001b[0m\u001b[0m\n\u001b[0m",
            "\u001b[0;32m<ipython-input-15-f0e8228da268>\u001b[0m in \u001b[0;36msolve\u001b[0;34m(rects, W, opt)\u001b[0m\n\u001b[1;32m     89\u001b[0m                 \u001b[0mNot\u001b[0m\u001b[0;34m(\u001b[0m\u001b[0munder\u001b[0m\u001b[0;34m[\u001b[0m\u001b[0mri\u001b[0m\u001b[0;34m]\u001b[0m\u001b[0;34m[\u001b[0m\u001b[0mrj\u001b[0m\u001b[0;34m]\u001b[0m\u001b[0;34m)\u001b[0m\u001b[0;34m,\u001b[0m\u001b[0;34m\u001b[0m\u001b[0;34m\u001b[0m\u001b[0m\n\u001b[1;32m     90\u001b[0m                 \u001b[0mpy\u001b[0m\u001b[0;34m[\u001b[0m\u001b[0mri\u001b[0m\u001b[0;34m]\u001b[0m\u001b[0;34m[\u001b[0m\u001b[0mf\u001b[0m\u001b[0;34m]\u001b[0m\u001b[0;34m,\u001b[0m\u001b[0;34m\u001b[0m\u001b[0;34m\u001b[0m\u001b[0m\n\u001b[0;32m---> 91\u001b[0;31m                 \u001b[0mNot\u001b[0m\u001b[0;34m(\u001b[0m\u001b[0mpy\u001b[0m\u001b[0;34m[\u001b[0m\u001b[0mrj\u001b[0m\u001b[0;34m]\u001b[0m\u001b[0;34m[\u001b[0m\u001b[0mf\u001b[0m\u001b[0;34m+\u001b[0m\u001b[0mrects\u001b[0m\u001b[0;34m[\u001b[0m\u001b[0mri\u001b[0m\u001b[0;34m]\u001b[0m\u001b[0;34m[\u001b[0m\u001b[0;36m1\u001b[0m\u001b[0;34m]\u001b[0m\u001b[0;34m]\u001b[0m\u001b[0;34m)\u001b[0m\u001b[0;34m\u001b[0m\u001b[0;34m\u001b[0m\u001b[0m\n\u001b[0m\u001b[1;32m     92\u001b[0m           )) #for any f, under(ri,rj) -> (yj <= f+hi ->yi <= f)\n\u001b[1;32m     93\u001b[0m \u001b[0;34m\u001b[0m\u001b[0m\n",
            "\u001b[0;32m/usr/local/lib/python3.7/dist-packages/z3/z3.py\u001b[0m in \u001b[0;36mOr\u001b[0;34m(*args)\u001b[0m\n\u001b[1;32m   1760\u001b[0m         \u001b[0margs\u001b[0m  \u001b[0;34m=\u001b[0m \u001b[0m_coerce_expr_list\u001b[0m\u001b[0;34m(\u001b[0m\u001b[0margs\u001b[0m\u001b[0;34m,\u001b[0m \u001b[0mctx\u001b[0m\u001b[0;34m)\u001b[0m\u001b[0;34m\u001b[0m\u001b[0;34m\u001b[0m\u001b[0m\n\u001b[1;32m   1761\u001b[0m         \u001b[0m_args\u001b[0m\u001b[0;34m,\u001b[0m \u001b[0msz\u001b[0m \u001b[0;34m=\u001b[0m \u001b[0m_to_ast_array\u001b[0m\u001b[0;34m(\u001b[0m\u001b[0margs\u001b[0m\u001b[0;34m)\u001b[0m\u001b[0;34m\u001b[0m\u001b[0;34m\u001b[0m\u001b[0m\n\u001b[0;32m-> 1762\u001b[0;31m         \u001b[0;32mreturn\u001b[0m \u001b[0mBoolRef\u001b[0m\u001b[0;34m(\u001b[0m\u001b[0mZ3_mk_or\u001b[0m\u001b[0;34m(\u001b[0m\u001b[0mctx\u001b[0m\u001b[0;34m.\u001b[0m\u001b[0mref\u001b[0m\u001b[0;34m(\u001b[0m\u001b[0;34m)\u001b[0m\u001b[0;34m,\u001b[0m \u001b[0msz\u001b[0m\u001b[0;34m,\u001b[0m \u001b[0m_args\u001b[0m\u001b[0;34m)\u001b[0m\u001b[0;34m,\u001b[0m \u001b[0mctx\u001b[0m\u001b[0;34m)\u001b[0m\u001b[0;34m\u001b[0m\u001b[0;34m\u001b[0m\u001b[0m\n\u001b[0m\u001b[1;32m   1763\u001b[0m \u001b[0;34m\u001b[0m\u001b[0m\n\u001b[1;32m   1764\u001b[0m \u001b[0;31m#########################################\u001b[0m\u001b[0;34m\u001b[0m\u001b[0;34m\u001b[0m\u001b[0;34m\u001b[0m\u001b[0m\n",
            "\u001b[0;32m/usr/local/lib/python3.7/dist-packages/z3/z3core.py\u001b[0m in \u001b[0;36mZ3_mk_or\u001b[0;34m(a0, a1, a2, _elems)\u001b[0m\n\u001b[1;32m   1755\u001b[0m \u001b[0;34m\u001b[0m\u001b[0m\n\u001b[1;32m   1756\u001b[0m \u001b[0;32mdef\u001b[0m \u001b[0mZ3_mk_or\u001b[0m\u001b[0;34m(\u001b[0m\u001b[0ma0\u001b[0m\u001b[0;34m,\u001b[0m \u001b[0ma1\u001b[0m\u001b[0;34m,\u001b[0m \u001b[0ma2\u001b[0m\u001b[0;34m,\u001b[0m \u001b[0m_elems\u001b[0m\u001b[0;34m=\u001b[0m\u001b[0mElementaries\u001b[0m\u001b[0;34m(\u001b[0m\u001b[0m_lib\u001b[0m\u001b[0;34m.\u001b[0m\u001b[0mZ3_mk_or\u001b[0m\u001b[0;34m)\u001b[0m\u001b[0;34m)\u001b[0m\u001b[0;34m:\u001b[0m\u001b[0;34m\u001b[0m\u001b[0;34m\u001b[0m\u001b[0m\n\u001b[0;32m-> 1757\u001b[0;31m   \u001b[0mr\u001b[0m \u001b[0;34m=\u001b[0m \u001b[0m_elems\u001b[0m\u001b[0;34m.\u001b[0m\u001b[0mf\u001b[0m\u001b[0;34m(\u001b[0m\u001b[0ma0\u001b[0m\u001b[0;34m,\u001b[0m \u001b[0ma1\u001b[0m\u001b[0;34m,\u001b[0m \u001b[0ma2\u001b[0m\u001b[0;34m)\u001b[0m\u001b[0;34m\u001b[0m\u001b[0;34m\u001b[0m\u001b[0m\n\u001b[0m\u001b[1;32m   1758\u001b[0m   \u001b[0m_elems\u001b[0m\u001b[0;34m.\u001b[0m\u001b[0mCheck\u001b[0m\u001b[0;34m(\u001b[0m\u001b[0ma0\u001b[0m\u001b[0;34m)\u001b[0m\u001b[0;34m\u001b[0m\u001b[0;34m\u001b[0m\u001b[0m\n\u001b[1;32m   1759\u001b[0m   \u001b[0;32mreturn\u001b[0m \u001b[0mr\u001b[0m\u001b[0;34m\u001b[0m\u001b[0;34m\u001b[0m\u001b[0m\n",
            "\u001b[0;31mKeyboardInterrupt\u001b[0m: "
          ]
        }
      ]
    },
    {
      "cell_type": "code",
      "metadata": {
        "id": "jroer5JXjGN3"
      },
      "source": [
        "def solve(rects,W,opt=False):\n",
        "  start = time.time()\n",
        "  solved = False\n",
        "  H= int(totarea/W)\n",
        "  while (solved != True):\n",
        "    print(H)\n",
        "    px = [[Bool(f\"px{r+1}_{x}\") for x in range(W)] for r in range(len(rects))]\n",
        "    py = [[Bool(f\"py{r+1}_{y}\") for y in range(H)] for r in range(len(rects))]\n",
        "    under = [[Bool(f\"r{ri+1}_under_r{rj+1}\") if ri != rj else 0 for rj in range(len(rects)) ] for ri in range(len(rects))]\n",
        "    left = [[Bool(f\"r{ri+1}_leftof_r{rj+1}\")  if rj!=ri else 0 for rj in range(len(rects))] for ri in range(len(rects))]\n",
        "  \n",
        "    #add automatic truths\n",
        "    s= Solver()\n",
        "    for r in range(len(rects)):\n",
        "      for xi in range(W-rects[r][0],W):\n",
        "        s.add(px[r][xi])\n",
        "      for yi in range(H-rects[r][1],H):\n",
        "        s.add(py[r][yi])\n",
        "\n",
        "    #add symm breaking and optimization\n",
        "    if opt == True:\n",
        "\n",
        "      #limit the dommain of the biggest rectangle, thus avoiding most symm options\n",
        "      \"\"\"bigger_r = max(rects, key=lambda p:p[0]*p[1])\n",
        "      ri = rects.index(bigger_r)\n",
        "      limit_x = int((W-bigger_r[0])/2)\n",
        "      s.add(Or([px[ri][i] for i in range(limit_x+1)]))\n",
        "      for r in range(len(rects)):\n",
        "        if r!= ri and rects[r][0] > limit_x:\n",
        "          s.add(Not(left[r][ri]))\n",
        "\n",
        "      limit_y = int((H-bigger_r[1])/2)\n",
        "      s.add(Or([py[ri][i] for i in range(limit_y+1)]))\n",
        "      for r in range(len(rects)):\n",
        "        if r!= ri and rects[r][1] > limit_y:\n",
        "          s.add(Not(under[r][ri])) \"\"\"\n",
        "\n",
        "      \n",
        "      #avoid combinations of rectangles that would go out of borders\n",
        "      for (ri,rj) in itertools.combinations(range(len(rects)),2):\n",
        "        if (rects[ri][0] + rects[rj][0] > W):\n",
        "          s.add(Not(left[ri][rj]))\n",
        "          s.add(Not(left[rj][ri]))\n",
        "        if (rects[ri][1] + rects[rj][1] > H):\n",
        "          s.add(Not(under[ri][rj]))\n",
        "          s.add(Not(under[rj][ri]))\n",
        "\n",
        "      \"\"\"#fix positions for same size rectangles\n",
        "      for (ri,rj) in itertools.combinations(range(len(rects)),2):\n",
        "        if (rects[ri] == rects[rj]):\n",
        "          s.add(Not(left[rj][ri]))\n",
        "          s.add(Or(Not(under[rj][ri]),left[ri][rj]))\"\"\"\n",
        "\n",
        "    #axioms\n",
        "  \n",
        "    for r in range(len(rects)):\n",
        "      for e in range(W-1):\n",
        "        s.add(Or(Not(px[r][e]),px[r][e+1]))\n",
        "      for f in range(H-1):\n",
        "        s.add(Or(Not(py[r][f]),py[r][f+1]))\n",
        "\n",
        "    #non overlapping condition\n",
        "    for (i,j) in itertools.combinations(range(len(rects)),2):\n",
        "      s.add(Or(left[i][j],left[j][i],under[i][j],under[j][i]))\n",
        "  \n",
        "    #meaning for left and under\n",
        "    for ri in range(len(rects)):\n",
        "      for rj in range(len(rects)):\n",
        "        if ri != rj :\n",
        "          #print((ri,rj))\n",
        "          s.add(Or(\n",
        "              Not(left[ri][rj]),\n",
        "              Not(px[rj][rects[ri][0]-1])\n",
        "          )) # left(ri,rj) -> xj > wi, lower bound for xj\n",
        "          for e in range(0,W-rects[ri][0]):\n",
        "            s.add(Or(\n",
        "                Not(left[ri][rj]),\n",
        "                px[ri][e],\n",
        "                Not(px[rj][e+rects[ri][0]])\n",
        "            )) #for any e: left(ri,rj) -> (xi <e v ! xj<e+wi)\n",
        "  \n",
        "          s.add(Or(\n",
        "              Not(under[ri][rj]),\n",
        "              Not(py[rj][rects[ri][1]-1])\n",
        "          )) #under(ri,rj)-> yj > hi, lower bound for yj\n",
        "  \n",
        "          for f in range(0,H-rects[ri][1]):\n",
        "            s.add(Or(\n",
        "                Not(under[ri][rj]),\n",
        "                py[ri][f],\n",
        "                Not(py[rj][f+rects[ri][1]])\n",
        "          )) #for any f, under(ri,rj) -> (yj <= f+hi ->yi <= f)\n",
        "    \n",
        "\n",
        "    #solve\n",
        "    if s.check() == z3.sat:\n",
        "      solved = True\n",
        "      m = s.model()\n",
        "      print(f'H found: {H}')\n",
        "      end=time.time()\n",
        "      print(f\"elapsed:{end-start}\")\n",
        "      return m,return_coods(m,len(rects),px,py)\n",
        "    H +=1"
      ],
      "execution_count": null,
      "outputs": []
    },
    {
      "cell_type": "code",
      "metadata": {
        "id": "wUSQy04ywzIh"
      },
      "source": [
        "def return_coods(m,l,px,py):\n",
        "  x_r =[]\n",
        "  y_r=[]\n",
        "  for r in range(l):\n",
        "    x_r.append([m.eval(x) for x in px[r]].index(True))\n",
        "\n",
        "  for r in range(len(rects)):\n",
        "    y_r.append([m.eval(x) for x in py[r]].index(True))\n",
        "\n",
        "  return list(zip(x_r,y_r))"
      ],
      "execution_count": null,
      "outputs": []
    },
    {
      "cell_type": "code",
      "metadata": {
        "colab": {
          "base_uri": "https://localhost:8080/"
        },
        "id": "Be7_tJ4gxY78",
        "outputId": "86b21618-9ebd-4e46-9965-456ef56634b9"
      },
      "source": [
        "coords"
      ],
      "execution_count": null,
      "outputs": [
        {
          "output_type": "execute_result",
          "data": {
            "text/plain": [
              "[(0, 14),\n",
              " (7, 0),\n",
              " (22, 32),\n",
              " (25, 31),\n",
              " (26, 0),\n",
              " (22, 24),\n",
              " (0, 17),\n",
              " (0, 26),\n",
              " (7, 4),\n",
              " (34, 0),\n",
              " (0, 0),\n",
              " (22, 7),\n",
              " (30, 13),\n",
              " (7, 16),\n",
              " (22, 4),\n",
              " (22, 0),\n",
              " (3, 0),\n",
              " (25, 7),\n",
              " (3, 27),\n",
              " (3, 5),\n",
              " (33, 13),\n",
              " (29, 0),\n",
              " (25, 27),\n",
              " (28, 31),\n",
              " (29, 3),\n",
              " (25, 13),\n",
              " (10, 0)]"
            ]
          },
          "metadata": {
            "tags": []
          },
          "execution_count": 29
        }
      ]
    },
    {
      "cell_type": "code",
      "metadata": {
        "colab": {
          "base_uri": "https://localhost:8080/"
        },
        "id": "Cn0KxIiPouZU",
        "outputId": "32e634e6-4728-4c15-e12e-a10c6df0ef91"
      },
      "source": [
        "m,coords = solve(rects,W, opt=False)"
      ],
      "execution_count": null,
      "outputs": [
        {
          "output_type": "stream",
          "text": [
            "5\n",
            "6\n",
            "7\n",
            "8\n",
            "H found: 8\n",
            "elapsed:0.20158839225769043\n"
          ],
          "name": "stdout"
        }
      ]
    },
    {
      "cell_type": "code",
      "metadata": {
        "colab": {
          "base_uri": "https://localhost:8080/"
        },
        "id": "8wub2uLtx6g9",
        "outputId": "27e79fba-efbd-44f3-839e-8842ecc198af"
      },
      "source": [
        "coords"
      ],
      "execution_count": null,
      "outputs": [
        {
          "output_type": "execute_result",
          "data": {
            "text/plain": [
              "[(0, 5), (5, 0), (3, 5), (0, 0)]"
            ]
          },
          "metadata": {
            "tags": []
          },
          "execution_count": 17
        }
      ]
    },
    {
      "cell_type": "code",
      "metadata": {
        "id": "i2oOdGs2LiF-"
      },
      "source": [
        "#adattata da quella di carlo\n",
        "def plot_result(result):\n",
        "    dims = result[\"dims_v\"]\n",
        "    w = result[\"w_v\"]\n",
        "    ys = np.array(result[\"sol\"])[:,1]\n",
        "    xs = np.array(result[\"sol\"])[:,0]\n",
        "\n",
        "    lims = (0, max(w, max([ys[i]+dims[i][1] for i in range(len(ys))])))\n",
        "\n",
        "    fig1 = plt.figure(figsize=(10, 10))\n",
        "    ax1 = fig1.add_subplot(111, aspect='equal')\n",
        "    for i in range(len(xs)):\n",
        "        ax1.add_patch(patches.Rectangle((xs[i], ys[i]), dims[i][0], dims[i][1], edgecolor='black', facecolor=random.choice(['r', 'g', 'y'])))\n",
        "\n",
        "    plt.xticks(range(w+1))\n",
        "    plt.yticks(range(max([ys[i]+dims[i][1] for i in range(len(ys))])+1))\n",
        "    #plt.grid(b=True, which='major', color='#666666', linestyle='-')\n",
        "    plt.show()"
      ],
      "execution_count": null,
      "outputs": []
    },
    {
      "cell_type": "code",
      "metadata": {
        "colab": {
          "base_uri": "https://localhost:8080/"
        },
        "id": "PLTB_TSU8RxE",
        "outputId": "1021efa9-9c7f-4057-a1db-fdcb641b630a"
      },
      "source": [
        "coords"
      ],
      "execution_count": null,
      "outputs": [
        {
          "output_type": "execute_result",
          "data": {
            "text/plain": [
              "[(5, 0), (0, 3), (0, 0), (3, 3)]"
            ]
          },
          "metadata": {
            "tags": []
          },
          "execution_count": 106
        }
      ]
    },
    {
      "cell_type": "code",
      "metadata": {
        "id": "3Wqp5AxX8Xir"
      },
      "source": [
        "### DEBUG CODE FROM HERE\n",
        "if True == False:\n",
        "  print(\"how?\")"
      ],
      "execution_count": null,
      "outputs": []
    },
    {
      "cell_type": "code",
      "metadata": {
        "colab": {
          "base_uri": "https://localhost:8080/"
        },
        "id": "8yElb5P09JnE",
        "outputId": "cd9f35e8-0302-43b9-fb8b-e4b14a2aab33"
      },
      "source": [
        "for t in m:\n",
        "  if is_true(m[t]):\n",
        "    print(t)"
      ],
      "execution_count": null,
      "outputs": [
        {
          "output_type": "stream",
          "text": [
            "px1_7\n",
            "py4_3\n",
            "py2_3\n",
            "px1_5\n",
            "px3_5\n",
            "py3_7\n",
            "py4_7\n",
            "px1_0\n",
            "py4_6\n",
            "r1_under_r4\n",
            "r3_under_r2\n",
            "px3_4\n",
            "py2_6\n",
            "px4_5\n",
            "px4_6\n",
            "py1_4\n",
            "py3_6\n",
            "py1_3\n",
            "py1_6\n",
            "r3_under_r4\n",
            "px2_5\n",
            "py2_5\n",
            "px3_7\n",
            "px4_3\n",
            "px4_4\n",
            "px3_1\n",
            "py3_3\n",
            "py3_2\n",
            "py1_0\n",
            "r1_under_r2\n",
            "py3_5\n",
            "px2_2\n",
            "py2_4\n",
            "px2_6\n",
            "r3_leftof_r1\n",
            "px3_2\n",
            "py1_5\n",
            "py2_7\n",
            "px3_0\n",
            "r2_leftof_r4\n",
            "py3_1\n",
            "px1_1\n",
            "px3_3\n",
            "px2_3\n",
            "px3_6\n",
            "py3_4\n",
            "px4_7\n",
            "py1_7\n",
            "py4_5\n",
            "py1_1\n",
            "px2_1\n",
            "py4_4\n",
            "px2_4\n",
            "py3_0\n",
            "py1_2\n",
            "px1_6\n",
            "px2_7\n",
            "px2_0\n"
          ],
          "name": "stdout"
        }
      ]
    },
    {
      "cell_type": "code",
      "metadata": {
        "id": "3HtMUpEa6gBD"
      },
      "source": [
        "W=8\n",
        "H=10"
      ],
      "execution_count": null,
      "outputs": []
    },
    {
      "cell_type": "code",
      "metadata": {
        "id": "lY9112CeZ5pg"
      },
      "source": [
        "#TODO add the \"certainly true px and py\"\n",
        "#px = [[Bool(f\"x{r+1}<{x}\") for x in range(W-rects[r][0]+1)] for r in range(len(rects))]\n",
        "#py = [[Bool(f\"y{r+1}<{y}\") for y in range(H-rects[r][1]+1)] for r in range(len(rects))]\n",
        "px = [[Bool(f\"px{r+1}_{x}\") for x in range(W)] for r in range(len(rects))]\n",
        "py = [[Bool(f\"py{r+1}_{y}\") for y in range(H)] for r in range(len(rects))]"
      ],
      "execution_count": null,
      "outputs": []
    },
    {
      "cell_type": "code",
      "metadata": {
        "id": "dTv_I83GBI_1"
      },
      "source": [
        "under = [[Bool(f\"r{ri+1}_under_r{rj+1}\") if ri != rj else 0 for rj in range(len(rects)) ] for ri in range(len(rects))]\n",
        "left = [[Bool(f\"r{ri+1}_leftof_r{rj+1}\")  if rj!=ri else 0 for rj in range(len(rects))] for ri in range(len(rects))]"
      ],
      "execution_count": null,
      "outputs": []
    },
    {
      "cell_type": "code",
      "metadata": {
        "id": "fukM_Z5PfE51"
      },
      "source": [
        "s= Solver()\n",
        "#add automatic truths\n",
        "\n",
        "for r in range(len(rects)):\n",
        "  for xi in range(W-rects[r][0],W):\n",
        "    s.add(px[r][xi])\n",
        "  for yi in range(H-rects[r][1],H):\n",
        "    s.add(py[r][yi])\n"
      ],
      "execution_count": null,
      "outputs": []
    },
    {
      "cell_type": "code",
      "metadata": {
        "id": "6Gu-4hAbzT_U"
      },
      "source": [
        "#axioms\n",
        "\n",
        "for r in range(len(rects)):\n",
        "  for e in range(W-1):\n",
        "    s.add(Or(Not(px[r][e]),px[r][e+1]))\n",
        "  for f in range(H-1):\n",
        "    s.add(Or(Not(py[r][f]),py[r][f+1]))"
      ],
      "execution_count": null,
      "outputs": []
    },
    {
      "cell_type": "code",
      "metadata": {
        "id": "_neY4ZlJC-Xo"
      },
      "source": [
        "\n",
        "#non overlapping condition\n",
        "for (i,j) in itertools.combinations(range(len(rects)),2):\n",
        "  s.add(Or(left[i][j],left[j][i],under[i][j],under[j][i]))"
      ],
      "execution_count": null,
      "outputs": []
    },
    {
      "cell_type": "code",
      "metadata": {
        "id": "e_VnEeEg9PfF"
      },
      "source": [
        "for ri in range(len(rects)):\n",
        "  for rj in range(len(rects)):\n",
        "    if ri != rj :\n",
        "      #print((ri,rj))\n",
        "      s.add(Or(\n",
        "          Not(left[ri][rj]),\n",
        "          Not(px[rj][rects[ri][0]-1])\n",
        "      )) # left(ri,rj) -> xj > wi, lower bound for xj\n",
        "      for e in range(0,W-rects[ri][0]):\n",
        "        s.add(Or(\n",
        "            Not(left[ri][rj]),\n",
        "            px[ri][e],\n",
        "            Not(px[rj][e+rects[ri][0]])\n",
        "        )) #for any e: left(ri,rj) -> (xi <e v ! xj<e+wi)\n",
        "\n",
        "      s.add(Or(\n",
        "          Not(under[ri][rj]),\n",
        "          Not(py[rj][rects[ri][1]-1])\n",
        "      )) #under(ri,rj)-> yj > hi, lower bound for yj\n",
        "\n",
        "      for f in range(0,H-rects[ri][1]):\n",
        "        s.add(Or(\n",
        "            Not(under[ri][rj]),\n",
        "            py[ri][f],\n",
        "            Not(py[rj][f+rects[ri][1]])\n",
        "      )) #for any f, under(ri,rj) -> (yj <= f+hi ->yi <= f)"
      ],
      "execution_count": null,
      "outputs": []
    },
    {
      "cell_type": "code",
      "metadata": {
        "colab": {
          "base_uri": "https://localhost:8080/",
          "height": 34
        },
        "id": "nnMIBXlIEA0H",
        "outputId": "3e466efd-e3d5-4251-cf2e-ffab2c5fae39"
      },
      "source": [
        "s.check()"
      ],
      "execution_count": null,
      "outputs": [
        {
          "output_type": "execute_result",
          "data": {
            "text/html": [
              "<b>sat</b>"
            ],
            "text/plain": [
              "sat"
            ]
          },
          "metadata": {
            "tags": []
          },
          "execution_count": 57
        }
      ]
    },
    {
      "cell_type": "code",
      "metadata": {
        "id": "Nz-7XT4ZNJCH"
      },
      "source": [
        "m = s.model()"
      ],
      "execution_count": null,
      "outputs": []
    },
    {
      "cell_type": "code",
      "metadata": {
        "id": "XR_iQVYVxaIh"
      },
      "source": [
        "x_r =[]\n",
        "y_r =[]\n",
        "for r in range(len(rects)):\n",
        "  x_r.append([m.eval(x) for x in px[r]].index(True))\n",
        "\n",
        "y_r=[]\n",
        "for r in range(len(rects)):\n",
        "  y_r.append([m.eval(x) for x in py[r]].index(True))"
      ],
      "execution_count": null,
      "outputs": []
    },
    {
      "cell_type": "code",
      "metadata": {
        "id": "J-x7XiXQyxC1"
      },
      "source": [
        "coords=list(zip(x_r,y_r))"
      ],
      "execution_count": null,
      "outputs": []
    },
    {
      "cell_type": "code",
      "metadata": {
        "colab": {
          "base_uri": "https://localhost:8080/"
        },
        "id": "wnRcgwedxPww",
        "outputId": "477a4572-756e-4ab2-bd7a-6b74e9c8ff13"
      },
      "source": [
        "[m.eval(x) for x in px[0]]"
      ],
      "execution_count": null,
      "outputs": [
        {
          "output_type": "execute_result",
          "data": {
            "text/plain": [
              "[False, False, False, False, False, True, True, True]"
            ]
          },
          "metadata": {
            "tags": []
          },
          "execution_count": 61
        }
      ]
    },
    {
      "cell_type": "code",
      "metadata": {
        "colab": {
          "base_uri": "https://localhost:8080/"
        },
        "id": "Elus4OZY0aaY",
        "outputId": "532d7a31-8335-4d20-f412-826822072ad7"
      },
      "source": [
        "print(coords)"
      ],
      "execution_count": null,
      "outputs": [
        {
          "output_type": "stream",
          "text": [
            "[(5, 0), (0, 3), (0, 0), (3, 3)]\n"
          ],
          "name": "stdout"
        }
      ]
    },
    {
      "cell_type": "code",
      "metadata": {
        "colab": {
          "base_uri": "https://localhost:8080/"
        },
        "id": "3fWVcjs446jf",
        "outputId": "bbc9c908-45e4-413a-b645-c65d0dbb4311"
      },
      "source": [
        "start = time.time()\n",
        "solved = False\n",
        "H=max(rects, key=lambda x:x[1])[1]\n",
        "while (solved != True):\n",
        "  print(H)\n",
        "  px = [[Bool(f\"px{r+1}_{x}\") for x in range(W)] for r in range(len(rects))]\n",
        "  py = [[Bool(f\"py{r+1}_{y}\") for y in range(H)] for r in range(len(rects))]\n",
        "  under = [[Bool(f\"r{ri+1}_under_r{rj+1}\") if ri != rj else 0 for rj in range(len(rects)) ] for ri in range(len(rects))]\n",
        "  left = [[Bool(f\"r{ri+1}_leftof_r{rj+1}\")  if rj!=ri else 0 for rj in range(len(rects))] for ri in range(len(rects))]\n",
        " \n",
        "  #add automatic truths\n",
        "  s= Solver()\n",
        "  for r in range(len(rects)):\n",
        "    for xi in range(W-rects[r][0],W):\n",
        "      s.add(px[r][xi])\n",
        "    for yi in range(H-rects[r][1],H):\n",
        "      s.add(py[r][yi])\n",
        " \n",
        "  #axioms\n",
        " \n",
        "  for r in range(len(rects)):\n",
        "    for e in range(W-1):\n",
        "      s.add(Or(Not(px[r][e]),px[r][e+1]))\n",
        "    for f in range(H-1):\n",
        "      s.add(Or(Not(py[r][f]),py[r][f+1]))\n",
        " \n",
        "  #non overlapping condition\n",
        "  for (i,j) in itertools.combinations(range(len(rects)),2):\n",
        "    s.add(Or(left[i][j],left[j][i],under[i][j],under[j][i]))\n",
        " \n",
        "  #meaning for left and under\n",
        "  for ri in range(len(rects)):\n",
        "    for rj in range(len(rects)):\n",
        "      if ri != rj :\n",
        "        #print((ri,rj))\n",
        "        s.add(Or(\n",
        "            Not(left[ri][rj]),\n",
        "            Not(px[rj][rects[ri][0]-1])\n",
        "        )) # left(ri,rj) -> xj > wi, lower bound for xj\n",
        "        for e in range(0,W-rects[ri][0]):\n",
        "          s.add(Or(\n",
        "              Not(left[ri][rj]),\n",
        "              px[ri][e],\n",
        "              Not(px[rj][e+rects[ri][0]])\n",
        "          )) #for any e: left(ri,rj) -> (xi <e v ! xj<e+wi)\n",
        " \n",
        "        s.add(Or(\n",
        "            Not(under[ri][rj]),\n",
        "            Not(py[rj][rects[ri][1]-1])\n",
        "        )) #under(ri,rj)-> yj > hi, lower bound for yj\n",
        " \n",
        "        for f in range(0,H-rects[ri][1]):\n",
        "          s.add(Or(\n",
        "              Not(under[ri][rj]),\n",
        "              py[ri][f],\n",
        "              Not(py[rj][f+rects[ri][1]])\n",
        "        )) #for any f, under(ri,rj) -> (yj <= f+hi ->yi <= f)\n",
        "  if s.check() == z3.sat:\n",
        "    solved = True\n",
        "    m = s.model()\n",
        "    print(f'H found: {H}')\n",
        "    end=time.time()\n",
        "    print(f\"elapsed:{end-start}\")\n",
        "  H +=1"
      ],
      "execution_count": null,
      "outputs": [
        {
          "output_type": "stream",
          "text": [
            "5\n",
            "6\n",
            "7\n",
            "8\n",
            "H found: 8\n",
            "elapsed:0.17603826522827148\n"
          ],
          "name": "stdout"
        }
      ]
    }
  ]
}